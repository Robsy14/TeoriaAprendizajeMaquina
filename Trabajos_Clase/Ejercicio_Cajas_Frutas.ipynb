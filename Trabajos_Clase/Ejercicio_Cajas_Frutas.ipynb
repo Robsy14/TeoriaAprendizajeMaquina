{
  "nbformat": 4,
  "nbformat_minor": 0,
  "metadata": {
    "colab": {
      "provenance": [],
      "authorship_tag": "ABX9TyPj+TufDnDhOk0f6tsZI5uT",
      "include_colab_link": true
    },
    "kernelspec": {
      "name": "python3",
      "display_name": "Python 3"
    },
    "language_info": {
      "name": "python"
    }
  },
  "cells": [
    {
      "cell_type": "markdown",
      "metadata": {
        "id": "view-in-github",
        "colab_type": "text"
      },
      "source": [
        "<a href=\"https://colab.research.google.com/github/Robsy14/TeoriaAprendizajeMaquina/blob/main/Trabajos_Clase/Ejercicio_Cajas_Frutas.ipynb\" target=\"_parent\"><img src=\"https://colab.research.google.com/assets/colab-badge.svg\" alt=\"Open In Colab\"/></a>"
      ]
    },
    {
      "cell_type": "markdown",
      "source": [
        "prompt en chat GPT:\n",
        "realiza un código que me entregue las probabilidades utilizando bayes  ten en cuenta la siguiente información:\n",
        "tenemos dos cajas una roja (r) y una azul (b) cada una con chances del 40% y el 60% respectivamente, dentro de ellas tenemos dos frutas la naranja (o) y la manzana (a). Dentro de la caja roja hay ocho frutas 2 manzanas y 6 naranjas, y dentro de la caja azul hay 3 manzanas y 1 naranja.\n",
        "la probabilidades que debe entregar son:\n",
        "- la de cada fruta(manzana y naranja)\n",
        "- la de cada fruta en cada una de las cajas(roja y azul)"
      ],
      "metadata": {
        "id": "qv6EzTrubq4F"
      }
    },
    {
      "cell_type": "code",
      "source": [
        "# Probabilidades iniciales\n",
        "P_R = 0.4  # Probabilidad de la caja roja\n",
        "P_B = 0.6  # Probabilidad de la caja azul\n",
        "\n",
        "# Probabilidades condicionales de frutas dado cada caja\n",
        "P_A_R = 2 / 8  # Manzana en caja roja\n",
        "P_O_R = 6 / 8  # Naranja en caja roja\n",
        "\n",
        "P_A_B = 3 / 4  # Manzana en caja azul\n",
        "P_O_B = 1 / 4  # Naranja en caja azul\n",
        "\n",
        "# Probabilidades totales de cada fruta (Teorema de la probabilidad total)\n",
        "P_A = P_A_R * P_R + P_A_B * P_B\n",
        "P_O = P_O_R * P_R + P_O_B * P_B\n",
        "\n",
        "# Probabilidades inversas con Bayes\n",
        "P_R_A = (P_A_R * P_R) / P_A  # Probabilidad de caja roja dado que es una manzana\n",
        "P_B_A = (P_A_B * P_B) / P_A  # Probabilidad de caja azul dado que es una manzana\n",
        "\n",
        "P_R_O = (P_O_R * P_R) / P_O  # Probabilidad de caja roja dado que es una naranja\n",
        "P_B_O = (P_O_B * P_B) / P_O  # Probabilidad de caja azul dado que es una naranja\n",
        "\n",
        "# Imprimir resultados\n",
        "print(f\"Probabilidad de sacar una manzana: {P_A:.4f}\")\n",
        "print(f\"Probabilidad de sacar una naranja: {P_O:.4f}\")\n",
        "\n",
        "print(f\"Probabilidad de que la manzana venga de la caja roja: {P_R_A:.4f}\")\n",
        "print(f\"Probabilidad de que la manzana venga de la caja azul: {P_B_A:.4f}\")\n",
        "\n",
        "print(f\"Probabilidad de que la naranja venga de la caja roja: {P_R_O:.4f}\")\n",
        "print(f\"Probabilidad de que la naranja venga de la caja azul: {P_B_O:.4f}\")\n"
      ],
      "metadata": {
        "colab": {
          "base_uri": "https://localhost:8080/"
        },
        "id": "C_-acDtsbhfN",
        "outputId": "311b2833-a075-4a42-d4f5-ea321306fd3d"
      },
      "execution_count": null,
      "outputs": [
        {
          "output_type": "stream",
          "name": "stdout",
          "text": [
            "Probabilidad de sacar una manzana: 0.5500\n",
            "Probabilidad de sacar una naranja: 0.4500\n",
            "Probabilidad de que la manzana venga de la caja roja: 0.1818\n",
            "Probabilidad de que la manzana venga de la caja azul: 0.8182\n",
            "Probabilidad de que la naranja venga de la caja roja: 0.6667\n",
            "Probabilidad de que la naranja venga de la caja azul: 0.3333\n"
          ]
        }
      ]
    },
    {
      "cell_type": "markdown",
      "source": [
        "ahora generaliza el código para que tenga en cuenta una caja mas"
      ],
      "metadata": {
        "id": "WZYZfIRgbqAF"
      }
    },
    {
      "cell_type": "markdown",
      "source": [
        "Nuevas condiciones\n",
        "Ahora tenemos tres cajas:\n",
        "\n",
        "Caja Roja (R) → 40%\n",
        "\n",
        "Caja Azul (B) → 35%\n",
        "\n",
        "Caja Verde (G) → 25%\n",
        "\n",
        "Y sus respectivas distribuciones de frutas:\n",
        "\n",
        "Caja Roja: 2 manzanas, 6 naranjas.\n",
        "\n",
        "Caja Azul: 3 manzanas, 1 naranja.\n",
        "\n",
        "Caja Verde: 5 manzanas, 5 naranjas.\n",
        "\n",
        "El código calculará:\n",
        "\n",
        "Probabilidades totales de cada fruta.\n",
        "\n",
        "Probabilidades condicionales usando Bayes para cada caja."
      ],
      "metadata": {
        "id": "UqRHgQmWcUwE"
      }
    },
    {
      "cell_type": "code",
      "source": [
        "# Definir las cajas y sus probabilidades iniciales\n",
        "cajas = {\n",
        "    \"R\": {\"P\": 0.4, \"A\": 2, \"O\": 6},  # Caja Roja\n",
        "    \"B\": {\"P\": 0.35, \"A\": 3, \"O\": 1}, # Caja Azul\n",
        "    \"G\": {\"P\": 0.25, \"A\": 5, \"O\": 5}  # Caja Verde\n",
        "}\n",
        "\n",
        "# Total de frutas por caja\n",
        "for caja in cajas:\n",
        "    cajas[caja][\"Total\"] = cajas[caja][\"A\"] + cajas[caja][\"O\"]\n",
        "\n",
        "# Probabilidades condicionales P(Fruta | Caja)\n",
        "for caja in cajas:\n",
        "    cajas[caja][\"P_A_given_C\"] = cajas[caja][\"A\"] / cajas[caja][\"Total\"]\n",
        "    cajas[caja][\"P_O_given_C\"] = cajas[caja][\"O\"] / cajas[caja][\"Total\"]\n",
        "\n",
        "# Probabilidades totales de cada fruta usando la Ley de Probabilidad Total\n",
        "P_A = sum(cajas[caja][\"P_A_given_C\"] * cajas[caja][\"P\"] for caja in cajas)\n",
        "P_O = sum(cajas[caja][\"P_O_given_C\"] * cajas[caja][\"P\"] for caja in cajas)\n",
        "\n",
        "# Probabilidades inversas P(Caja | Fruta) usando Bayes\n",
        "for caja in cajas:\n",
        "    cajas[caja][\"P_C_given_A\"] = (cajas[caja][\"P_A_given_C\"] * cajas[caja][\"P\"]) / P_A\n",
        "    cajas[caja][\"P_C_given_O\"] = (cajas[caja][\"P_O_given_C\"] * cajas[caja][\"P\"]) / P_O\n",
        "\n",
        "# Imprimir resultados\n",
        "print(f\"Probabilidad de sacar una manzana: {P_A:.4f}\")\n",
        "print(f\"Probabilidad de sacar una naranja: {P_O:.4f}\\n\")\n",
        "\n",
        "for caja in cajas:\n",
        "    print(f\"Probabilidad de que la manzana venga de la caja {caja}: {cajas[caja]['P_C_given_A']:.4f}\")\n",
        "\n",
        "print()  # Salto de línea\n",
        "\n",
        "for caja in cajas:\n",
        "    print(f\"Probabilidad de que la naranja venga de la caja {caja}: {cajas[caja]['P_C_given_O']:.4f}\")\n"
      ],
      "metadata": {
        "colab": {
          "base_uri": "https://localhost:8080/"
        },
        "id": "P_8xgqrRcRN0",
        "outputId": "d49b0141-0534-4401-ded1-6730f05750d6"
      },
      "execution_count": null,
      "outputs": [
        {
          "output_type": "stream",
          "name": "stdout",
          "text": [
            "Probabilidad de sacar una manzana: 0.4875\n",
            "Probabilidad de sacar una naranja: 0.5125\n",
            "\n",
            "Probabilidad de que la manzana venga de la caja R: 0.2051\n",
            "Probabilidad de que la manzana venga de la caja B: 0.5385\n",
            "Probabilidad de que la manzana venga de la caja G: 0.2564\n",
            "\n",
            "Probabilidad de que la naranja venga de la caja R: 0.5854\n",
            "Probabilidad de que la naranja venga de la caja B: 0.1707\n",
            "Probabilidad de que la naranja venga de la caja G: 0.2439\n"
          ]
        }
      ]
    }
  ]
}